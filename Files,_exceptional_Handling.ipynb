{
  "nbformat": 4,
  "nbformat_minor": 0,
  "metadata": {
    "colab": {
      "provenance": []
    },
    "kernelspec": {
      "name": "python3",
      "display_name": "Python 3"
    },
    "language_info": {
      "name": "python"
    }
  },
  "cells": [
    {
      "cell_type": "markdown",
      "source": [
        "#Theortical Questions"
      ],
      "metadata": {
        "id": "x-AhqqaQ_rPF"
      }
    },
    {
      "cell_type": "markdown",
      "source": [
        "1. What is the difference between interpreted and compiled languages?\n",
        "\n",
        "  - Compiled languages (like C++) are translated directly into machine code before execution, resulting in faster performance. Interpreted languages (like Python) are executed line by line by an interpreter, making them more flexible but generally slower"
      ],
      "metadata": {
        "id": "g9pbgsL0_wTr"
      }
    },
    {
      "cell_type": "markdown",
      "source": [
        "2. What is exception handling in Python?\n",
        "\n",
        "  - Exception handling is a mechanism to deal with errors or unexpected events that occur during program execution. It allows the program to continue running even if an error occurs.\n"
      ],
      "metadata": {
        "id": "WFb_w_qTACXo"
      }
    },
    {
      "cell_type": "markdown",
      "source": [
        "3. What is the purpose of the finally block in exception handling?\n",
        "\n",
        "    - The finally block contains code that will always be executed, regardless of whether an exception occurred or not. It's typically used for cleanup operations like closing files or releasing resources.\n"
      ],
      "metadata": {
        "id": "_MJeOd63APbH"
      }
    },
    {
      "cell_type": "markdown",
      "source": [
        "4. What is logging in Python?\n",
        "\n",
        "  - Logging is a way to record events that occur during the execution of a program. It helps in debugging, monitoring, and understanding the program's behavior.\n"
      ],
      "metadata": {
        "id": "VNIvNYCuAZGf"
      }
    },
    {
      "cell_type": "markdown",
      "source": [
        "5. What is the significance of the del method in Python?\n",
        "\n",
        "  - The **del** method (destructor) is called when an object is about to be garbage collected. It's used to release resources held by the object. However, its usage is discouraged due to potential issues with garbage collection cycles.\n"
      ],
      "metadata": {
        "id": "y7ZR0HvSAgD_"
      }
    },
    {
      "cell_type": "markdown",
      "source": [
        "6. What is the difference between import and from...import in Python?\n",
        "  \n",
        "  - Import module imports the entire module, and you access its functions/classes using module.function(). from module import function imports specific items directly, so you can use them without the module prefix.\n"
      ],
      "metadata": {
        "id": "Kehp5WChAt2z"
      }
    },
    {
      "cell_type": "markdown",
      "source": [
        "7. How can you handle multiple exceptions in Python?\n",
        "\n",
        "  - You can handle multiple exceptions using multiple except blocks, specifying different exception types for each block: try:\n",
        "  1. Catching Multiple Exceptions with a Single except Clause\n",
        "  2. Handling Different Exceptions with Separate except Clauses\n",
        "  3. Using Exception Hierarchy\n",
        "  4. Using the except* Clause\n",
        "  5. Ignoring Specific Exceptions Using contextlib.suppress()\n",
        "  "
      ],
      "metadata": {
        "id": "jDMyerZMA82D"
      }
    },
    {
      "cell_type": "markdown",
      "source": [],
      "metadata": {
        "id": "RUkMvZCi_X-j"
      }
    },
    {
      "cell_type": "markdown",
      "source": [
        "8. What is the purpose of the with statement when handling files in Python?\n",
        "\n",
        "  - The with statement ensures that resources (like files) are properly managed. It automatically closes the file when the block is exited, even if exceptions occur.\n"
      ],
      "metadata": {
        "id": "oAVt2YaGB7db"
      }
    },
    {
      "cell_type": "markdown",
      "source": [
        "9. What is the difference between multithreading and multiprocessing?\n",
        "\n",
        "  - **Multithreading** runs multiple threads within a single process, sharing the same memory space. **Multiprocessing** runs multiple processes, each with its own memory space. Multiprocessing is better for CPU-bound tasks, while multithreading is better for I/O-bound tasks.\n"
      ],
      "metadata": {
        "id": "nSbcWy59CIRU"
      }
    },
    {
      "cell_type": "markdown",
      "source": [
        "10. What are the advantages of using logging in a program?\n",
        "\n",
        "  - Logging helps in debugging, provides a history of program execution, allows filtering of messages based on severity, and aids in monitoring and analyzing program behavior.\n"
      ],
      "metadata": {
        "id": "uentkiBCCVng"
      }
    },
    {
      "cell_type": "markdown",
      "source": [
        "11. What is memory management in Python?\n",
        "\n",
        "  - Memory management in Python involves allocating and deallocating memory for objects. Python uses automatic memory management through garbage collection.\n"
      ],
      "metadata": {
        "id": "ewJurXCaCbM7"
      }
    },
    {
      "cell_type": "markdown",
      "source": [
        "12. What are the basic steps involved in exception handling in Python?\n",
        "\n",
        "  - The basic steps are:\n",
        "\n",
        "    i) Enclose code that might raise an exception in a try block.\n",
        "  \n",
        "  ii) Use except blocks to handle specific exceptions.\n",
        "    \n",
        "    iii) Optionally, use a finally block for cleanup.\n"
      ],
      "metadata": {
        "id": "vkbZoq0MCkDC"
      }
    },
    {
      "cell_type": "markdown",
      "source": [
        "13. Why is memory management important in Python?\n",
        "\n",
        "  - Efficient memory management prevents memory leaks and ensures that the program uses resources effectively, leading to better performance and stability.\n"
      ],
      "metadata": {
        "id": "LCgFZIGyC2mk"
      }
    },
    {
      "cell_type": "markdown",
      "source": [
        "14. What is the role of try and except in exception handling?\n",
        "\n",
        "  - The try block contains the code that might raise an exception. The except block specifies how to handle the exception if it occurs.\n"
      ],
      "metadata": {
        "id": "q3A3xAjyDCTQ"
      }
    },
    {
      "cell_type": "markdown",
      "source": [
        "15. How does Python's garbage collection system work?\n",
        "\n",
        "  - Python uses automatic garbage collection, primarily reference counting. When an object's reference count drops to zero, it is deallocated. It also uses a cyclic garbage collector to handle objects involved in reference cycles.\n"
      ],
      "metadata": {
        "id": "IQTjeDhJDH4u"
      }
    },
    {
      "cell_type": "markdown",
      "source": [
        "16. What is the purpose of the else block in exception handling?\n",
        "\n",
        "  - The else block is executed if no exceptions are raised in the try block. It's used for code that should only run if the try block succeeds.\n"
      ],
      "metadata": {
        "id": "sv8-70jPDQE-"
      }
    },
    {
      "cell_type": "markdown",
      "source": [
        "17. What are the common logging levels in Python?\n",
        "\n",
        "  - The common logging levels are:\n",
        "\n",
        "      - DEBUG\n",
        "    \n",
        "      - INFO\n",
        "      \n",
        "      - WARNING\n",
        "    \n",
        "      - ERROR\n",
        "    \n",
        "      - CRITICAL\n",
        "\n",
        "\n",
        "\n",
        "\n",
        "\n",
        "\n"
      ],
      "metadata": {
        "id": "J60a1_1BDWsX"
      }
    },
    {
      "cell_type": "markdown",
      "source": [
        "18. What is the difference between os.fork() and multiprocessing in Python?\n",
        "\n",
        "  - os.fork() creates a child process that is a copy of the parent process, sharing the same memory space initially (on Unix-like systems). multiprocessing creates independent processes with separate memory spaces. multiprocessing is generally preferred for cross-platform compatibility.\n"
      ],
      "metadata": {
        "id": "CpHZCQZ_D3We"
      }
    },
    {
      "cell_type": "markdown",
      "source": [
        "19. What is the importance of closing a file in Python?\n",
        "\n",
        "  - Closing a file releases the resources held by the file, such as file handles and buffers. It ensures that data is written to the file and prevents data corruption or resource leaks.\n"
      ],
      "metadata": {
        "id": "9ol0Pj4hD8nP"
      }
    },
    {
      "cell_type": "markdown",
      "source": [
        "20. What is the difference between file.read() and file.readline() in Python?\n",
        "\n",
        "  - file.read() reads the entire file content as a single string. file.readline() reads a single line from the file, including the newline character.\n"
      ],
      "metadata": {
        "id": "HslIQJLNEIWY"
      }
    },
    {
      "cell_type": "markdown",
      "source": [
        "21. What is the logging module in Python used for?\n",
        "\n",
        "  - The logging module provides a flexible framework for emitting log messages from Python programs, allowing developers to control the level and destination of log messages.\n"
      ],
      "metadata": {
        "id": "9lu4fB3uERSM"
      }
    },
    {
      "cell_type": "markdown",
      "source": [
        "22. What is the os module in Python used for in file handling?\n",
        "\n",
        "  - The os module provides functions for interacting with the operating system, including file and directory manipulation (e.g., creating, deleting, renaming files, changing directories).\n"
      ],
      "metadata": {
        "id": "N7CJBmvoEYGW"
      }
    },
    {
      "cell_type": "markdown",
      "source": [
        "23. What are the challenges associated with memory management in Python?\n",
        "\n",
        "  - Challenges include dealing with circular references, optimizing memory usage for large data structures, and understanding the nuances of the garbage collection process"
      ],
      "metadata": {
        "id": "aPIITD6KEhNp"
      }
    },
    {
      "cell_type": "markdown",
      "source": [
        "24. How do you raise an exception manually in Python?\n",
        "\n",
        "  - You can raise an exception using the raise keyword, followed by the exception type and an optional message: raise ValueError(\"Invalid input\")\n"
      ],
      "metadata": {
        "id": "GS_OUQaEEmso"
      }
    },
    {
      "cell_type": "markdown",
      "source": [
        "25. Why is it important to use multithreading in certain applications?\n",
        "\n",
        "  - Multithreading can improve performance in I/O-bound applications by allowing the program to perform other tasks while waiting for I/O operations to complete. It can also enhance responsiveness in GUI applications.\n"
      ],
      "metadata": {
        "id": "iDwIWP-nEsUg"
      }
    },
    {
      "cell_type": "markdown",
      "source": [
        "#Practical Quesrions"
      ],
      "metadata": {
        "id": "o3m7pWrK-C_r"
      }
    },
    {
      "cell_type": "markdown",
      "source": [
        "1. How can you open a file for writing in Python and write a string to it?"
      ],
      "metadata": {
        "id": "0Ue8Cb9F-Tj6"
      }
    },
    {
      "cell_type": "code",
      "source": [
        "with open(\"my_file.txt\", \"w\") as f:\n",
        "    print((f.write(\"Hello, world, this is my first line!\")))"
      ],
      "metadata": {
        "colab": {
          "base_uri": "https://localhost:8080/"
        },
        "id": "EGslwOlj-WgF",
        "outputId": "7cbd9ac1-cb39-4d73-95b7-1bf83bbea224"
      },
      "execution_count": null,
      "outputs": [
        {
          "output_type": "stream",
          "name": "stdout",
          "text": [
            "36\n"
          ]
        }
      ]
    },
    {
      "cell_type": "markdown",
      "source": [
        "2. Write a Python program to read the contents of a file and print each line."
      ],
      "metadata": {
        "id": "rLtUvcTX-z5G"
      }
    },
    {
      "cell_type": "code",
      "source": [
        "with open(\"my_file.txt\", \"r\") as f:\n",
        "    for line in f:\n",
        "        print(line, end=\"\")"
      ],
      "metadata": {
        "colab": {
          "base_uri": "https://localhost:8080/"
        },
        "id": "rHC4b-BO-03x",
        "outputId": "0f0892e7-5737-4e9d-865a-73e01835de1b"
      },
      "execution_count": null,
      "outputs": [
        {
          "output_type": "stream",
          "name": "stdout",
          "text": [
            "Hello, world, this is my first line!"
          ]
        }
      ]
    },
    {
      "cell_type": "markdown",
      "source": [
        "3.How would you handle a case where the file doesn't exist while trying to open it for reading?\n",
        "\n"
      ],
      "metadata": {
        "id": "i1w4GHc7_KXB"
      }
    },
    {
      "cell_type": "code",
      "source": [
        "try:\n",
        "    with open(\"non_existent_file.txt\", \"r\") as f:\n",
        "        content = f.read()\n",
        "except FileNotFoundError:\n",
        "    print(\"File not found.\")"
      ],
      "metadata": {
        "colab": {
          "base_uri": "https://localhost:8080/"
        },
        "id": "FwlGWlaV_L8k",
        "outputId": "b18f476c-4cc0-4cbb-d8bc-afced0f91ef5"
      },
      "execution_count": null,
      "outputs": [
        {
          "output_type": "stream",
          "name": "stdout",
          "text": [
            "File not found.\n"
          ]
        }
      ]
    },
    {
      "cell_type": "markdown",
      "source": [
        "4. Write a Python script that reads from one file and writes its content to another file.\n",
        "\n"
      ],
      "metadata": {
        "id": "nf1VSKy-_2xM"
      }
    },
    {
      "cell_type": "code",
      "source": [
        "with open(\"my_file.txt\", \"r\") as source, open(\"destination.txt\", \"w\") as dest:\n",
        "    dest.write(source.read())\n",
        "    with open(\"my_file.txt\", \"r\") as source, open(\"destination.txt\", \"w\") as dest:\n",
        "        print(dest.write(source.read()))\n",
        "\n",
        "    with open(\"destination.txt\", \"r\") as dest:\n",
        "        print(dest.read())"
      ],
      "metadata": {
        "colab": {
          "base_uri": "https://localhost:8080/"
        },
        "id": "XVLKW00b_4K6",
        "outputId": "48ad4dae-d551-475a-dff7-519338328eef"
      },
      "execution_count": null,
      "outputs": [
        {
          "output_type": "stream",
          "name": "stdout",
          "text": [
            "36\n",
            "Hello, world, this is my first line!\n"
          ]
        }
      ]
    },
    {
      "cell_type": "markdown",
      "source": [
        "5. How would you catch and handle division by zero error in Python?\n"
      ],
      "metadata": {
        "id": "FzOavhGHAHcQ"
      }
    },
    {
      "cell_type": "code",
      "source": [
        "try:\n",
        "    result = 5 / 0\n",
        "except ZeroDivisionError:\n",
        "    print(\"Cannot be divide by zero.\")"
      ],
      "metadata": {
        "colab": {
          "base_uri": "https://localhost:8080/"
        },
        "id": "Og0ndtMMAIhF",
        "outputId": "a8b6b7a7-67fe-4f4d-ea8f-6704e9a1cdf8"
      },
      "execution_count": null,
      "outputs": [
        {
          "output_type": "stream",
          "name": "stdout",
          "text": [
            "Cannot be divide by zero.\n"
          ]
        }
      ]
    },
    {
      "cell_type": "markdown",
      "source": [
        "6. Write a Python program that logs an error message to a log file when a division by zero exception occurs."
      ],
      "metadata": {
        "id": "zLx8IwWzATd0"
      }
    },
    {
      "cell_type": "code",
      "source": [
        "import logging\n",
        "\n",
        "logging.basicConfig(filename='error.log', level=logging.ERROR)\n",
        "\n",
        "try:\n",
        "    result = 7 / 0\n",
        "except ZeroDivisionError:\n",
        "    logging.error(\"Division by zero occurred.\")"
      ],
      "metadata": {
        "colab": {
          "base_uri": "https://localhost:8080/"
        },
        "id": "XgO7H_Gz-zPa",
        "outputId": "56eb3087-4ef2-4c83-d429-38728ea11af3"
      },
      "execution_count": null,
      "outputs": [
        {
          "output_type": "stream",
          "name": "stderr",
          "text": [
            "ERROR:root:Division by zero occurred.\n"
          ]
        }
      ]
    },
    {
      "cell_type": "markdown",
      "source": [
        "7.How do you log information at different levels (INFO, ERROR, WARNING) in Python using the logging module?\n",
        "\n"
      ],
      "metadata": {
        "id": "PS0U9xFFAgte"
      }
    },
    {
      "cell_type": "code",
      "source": [
        "import logging\n",
        "\n",
        "logging.basicConfig(level=logging.INFO)\n",
        "\n",
        "logging.info(\"This is an info message.\")\n",
        "logging.warning(\"This is a warning message.\")\n",
        "logging.error(\"This is an error message.\")\n"
      ],
      "metadata": {
        "colab": {
          "base_uri": "https://localhost:8080/"
        },
        "id": "lJO1xQGSAnJy",
        "outputId": "406d5cc3-6efc-413f-8faa-1b7c13300488"
      },
      "execution_count": null,
      "outputs": [
        {
          "output_type": "stream",
          "name": "stderr",
          "text": [
            "WARNING:root:This is a warning message.\n",
            "ERROR:root:This is an error message.\n"
          ]
        }
      ]
    },
    {
      "cell_type": "markdown",
      "source": [
        "8. Write a program to handle a file opening error using exception handling."
      ],
      "metadata": {
        "id": "InGVztYCAwcB"
      }
    },
    {
      "cell_type": "code",
      "source": [
        "try:\n",
        "    with open(\"unknown.txt\", \"r\") as f:\n",
        "        content = f.read()\n",
        "except FileNotFoundError:\n",
        "    print(\"File could not be opened.\")"
      ],
      "metadata": {
        "colab": {
          "base_uri": "https://localhost:8080/"
        },
        "id": "m5aVqRKCAzlW",
        "outputId": "cb62e5b4-abe6-485c-a464-a5806ddfe34a"
      },
      "execution_count": null,
      "outputs": [
        {
          "output_type": "stream",
          "name": "stdout",
          "text": [
            "File could not be opened.\n"
          ]
        }
      ]
    },
    {
      "cell_type": "markdown",
      "source": [
        "9. How can you read a file line by line and store its content in a list in Python?\n"
      ],
      "metadata": {
        "id": "YO4YVfUFBCr3"
      }
    },
    {
      "cell_type": "code",
      "source": [
        "file=  open(\"my_file.txt\", \"r\")\n",
        "line= file.readlines()\n",
        "print(line)\n"
      ],
      "metadata": {
        "colab": {
          "base_uri": "https://localhost:8080/"
        },
        "id": "Q5oENNKhBD24",
        "outputId": "d5277997-c353-4d5e-836a-2d5d8db160d1"
      },
      "execution_count": null,
      "outputs": [
        {
          "output_type": "stream",
          "name": "stdout",
          "text": [
            "['Hello, world, this is my first line!']\n"
          ]
        }
      ]
    },
    {
      "cell_type": "markdown",
      "source": [
        "10. How can you append data to an existing file in Python?"
      ],
      "metadata": {
        "id": "bZlpqhrDCliH"
      }
    },
    {
      "cell_type": "code",
      "source": [
        "file= open(\"my_file.txt\", \"a\")\n",
        "file.write(\"\\n This is my second line.\\n My name is Neetigya Bajpai\")\n",
        "file= open(\"my_file.txt\", \"r\")\n",
        "line= file.read()\n",
        "print(line)\n",
        "file.close"
      ],
      "metadata": {
        "colab": {
          "base_uri": "https://localhost:8080/"
        },
        "id": "4dLtPyMn-I1r",
        "outputId": "33a53b28-573f-4bfa-ad43-9006af9f1da9"
      },
      "execution_count": null,
      "outputs": [
        {
          "output_type": "stream",
          "name": "stdout",
          "text": [
            "Hello, world, this is my first line!\n",
            " This is my second line.\n",
            " My name is Neetigya Bajpai.\n",
            " \n",
            " This is my second line.\n",
            " My name is Neetigya Bajpai\n",
            " This is my second line.\n",
            " My name is Neetigya Bajpai\n"
          ]
        },
        {
          "output_type": "execute_result",
          "data": {
            "text/plain": [
              "<function TextIOWrapper.close()>"
            ]
          },
          "metadata": {},
          "execution_count": 24
        }
      ]
    },
    {
      "cell_type": "markdown",
      "source": [
        "11. Write a Python program that uses a try-except block to handle an error when attempting to access a dictionary key that doesn't exist.\n",
        "\n"
      ],
      "metadata": {
        "id": "xgXq2Y0aHoMH"
      }
    },
    {
      "cell_type": "code",
      "source": [
        "my_dict = {\"a\": 1, \"b\": 2}\n",
        "try:\n",
        "    value = my_dict[\"c\"]\n",
        "except KeyError:\n",
        "    print(\"Key not found.\")"
      ],
      "metadata": {
        "colab": {
          "base_uri": "https://localhost:8080/"
        },
        "id": "7XVPrdPSHrww",
        "outputId": "ca14f14c-bbe3-48a9-fdd2-ffd995cf50a4"
      },
      "execution_count": null,
      "outputs": [
        {
          "output_type": "stream",
          "name": "stdout",
          "text": [
            "Key not found.\n"
          ]
        }
      ]
    },
    {
      "cell_type": "markdown",
      "source": [
        "12. Write a program that demonstrates using multiple except blocks to handle different types of exceptions.\n",
        "\n"
      ],
      "metadata": {
        "id": "tym9JHiqH_tA"
      }
    },
    {
      "cell_type": "code",
      "source": [
        "try:\n",
        "    value = int(\"abc\")\n",
        "    result = 10 / 0\n",
        "except ValueError:\n",
        "    print(\"Invalid value.\")\n",
        "except ZeroDivisionError:\n",
        "    print(\"Cannot divide by zero.\")\n",
        "\n"
      ],
      "metadata": {
        "colab": {
          "base_uri": "https://localhost:8080/"
        },
        "id": "RRIFUeToIBx8",
        "outputId": "779acdc3-1dc7-4aa3-fc33-f2844dc03639"
      },
      "execution_count": null,
      "outputs": [
        {
          "output_type": "stream",
          "name": "stdout",
          "text": [
            "Invalid value.\n"
          ]
        }
      ]
    },
    {
      "cell_type": "markdown",
      "source": [
        "13. How would you check if a file exists before attempting to read it in Python?\n"
      ],
      "metadata": {
        "id": "zSfLm0IvIhGI"
      }
    },
    {
      "cell_type": "code",
      "source": [
        "import os\n",
        "\n",
        "if os.path.exists(\"my_file.txt\"):\n",
        "    with open(\"my_file.txt\", \"r\") as f:\n",
        "        content = f.read()\n",
        "        print(\"File exists\")\n",
        "else:\n",
        "    print(\"File does not exist.\")"
      ],
      "metadata": {
        "colab": {
          "base_uri": "https://localhost:8080/"
        },
        "id": "jHHaMhi0IkYM",
        "outputId": "d851d823-3756-42f0-dfd7-5d62b0555877"
      },
      "execution_count": null,
      "outputs": [
        {
          "output_type": "stream",
          "name": "stdout",
          "text": [
            "File exists\n"
          ]
        }
      ]
    },
    {
      "cell_type": "markdown",
      "source": [
        "14.Write a program that uses the logging module to log both informational and error messages.\n"
      ],
      "metadata": {
        "id": "5F4FThA0IyAY"
      }
    },
    {
      "cell_type": "code",
      "execution_count": null,
      "metadata": {
        "id": "6_hOIZNN_QKT",
        "colab": {
          "base_uri": "https://localhost:8080/"
        },
        "outputId": "cf037ea3-1078-4d07-c4df-9561984a8195"
      },
      "outputs": [
        {
          "output_type": "stream",
          "name": "stderr",
          "text": [
            "ERROR:root:Division by zero occurred.\n"
          ]
        }
      ],
      "source": [
        "import logging\n",
        "\n",
        "logging.basicConfig(level=logging.INFO)\n",
        "\n",
        "logging.info(\"Program started.\")\n",
        "try:\n",
        "    result = 10 / 0\n",
        "except ZeroDivisionError:\n",
        "    logging.error(\"Division by zero occurred.\")"
      ]
    },
    {
      "cell_type": "markdown",
      "source": [
        "15.Write a Python program that prints the content of a file and handles the case when the file is empty."
      ],
      "metadata": {
        "id": "HZCkjt0HI8xb"
      }
    },
    {
      "cell_type": "code",
      "source": [
        "try:\n",
        "    with open(\"my_file.txt\", \"r\") as f:\n",
        "        content = f.read()\n",
        "        if not content:\n",
        "            print(\"File is empty.\")\n",
        "        else:\n",
        "            print(content)\n",
        "except FileNotFoundError:\n",
        "    print(\"File not found.\")\n"
      ],
      "metadata": {
        "colab": {
          "base_uri": "https://localhost:8080/"
        },
        "id": "D8S6j2RvJJC0",
        "outputId": "1213a1b4-7426-4f8a-980c-fedf2441e9d9"
      },
      "execution_count": null,
      "outputs": [
        {
          "output_type": "stream",
          "name": "stdout",
          "text": [
            "Hello, world, this is my first line!\n",
            " This is my second line.\n",
            " My name is Neetigya Bajpai.\n",
            " \n",
            " \n"
          ]
        }
      ]
    },
    {
      "cell_type": "markdown",
      "source": [
        "16.Demonstrate how to use memory profiling to check the memory usage of a small program.\n",
        "\n"
      ],
      "metadata": {
        "id": "r8k7pMqLJR21"
      }
    },
    {
      "cell_type": "code",
      "source": [
        "from memory_profiler import profile\n",
        "\n",
        "@profile\n",
        "def my_function():\n",
        "    my_list = [i for i in range(1000000)]\n",
        "    return sum(my_list)\n",
        "\n",
        "my_function()"
      ],
      "metadata": {
        "colab": {
          "base_uri": "https://localhost:8080/",
          "height": 394
        },
        "id": "3PWj7Ks-JcYk",
        "outputId": "573e037f-68c3-42a2-957c-a5ef142623b5"
      },
      "execution_count": null,
      "outputs": [
        {
          "output_type": "error",
          "ename": "ModuleNotFoundError",
          "evalue": "No module named 'memory_profiler'",
          "traceback": [
            "\u001b[0;31m---------------------------------------------------------------------------\u001b[0m",
            "\u001b[0;31mModuleNotFoundError\u001b[0m                       Traceback (most recent call last)",
            "\u001b[0;32m<ipython-input-33-4f5a11ec5507>\u001b[0m in \u001b[0;36m<cell line: 0>\u001b[0;34m()\u001b[0m\n\u001b[0;32m----> 1\u001b[0;31m \u001b[0;32mfrom\u001b[0m \u001b[0mmemory_profiler\u001b[0m \u001b[0;32mimport\u001b[0m \u001b[0mprofile\u001b[0m\u001b[0;34m\u001b[0m\u001b[0;34m\u001b[0m\u001b[0m\n\u001b[0m\u001b[1;32m      2\u001b[0m \u001b[0;34m\u001b[0m\u001b[0m\n\u001b[1;32m      3\u001b[0m \u001b[0;34m@\u001b[0m\u001b[0mprofile\u001b[0m\u001b[0;34m\u001b[0m\u001b[0;34m\u001b[0m\u001b[0m\n\u001b[1;32m      4\u001b[0m \u001b[0;32mdef\u001b[0m \u001b[0mmy_function\u001b[0m\u001b[0;34m(\u001b[0m\u001b[0;34m)\u001b[0m\u001b[0;34m:\u001b[0m\u001b[0;34m\u001b[0m\u001b[0;34m\u001b[0m\u001b[0m\n\u001b[1;32m      5\u001b[0m     \u001b[0mmy_list\u001b[0m \u001b[0;34m=\u001b[0m \u001b[0;34m[\u001b[0m\u001b[0mi\u001b[0m \u001b[0;32mfor\u001b[0m \u001b[0mi\u001b[0m \u001b[0;32min\u001b[0m \u001b[0mrange\u001b[0m\u001b[0;34m(\u001b[0m\u001b[0;36m1000000\u001b[0m\u001b[0;34m)\u001b[0m\u001b[0;34m]\u001b[0m\u001b[0;34m\u001b[0m\u001b[0;34m\u001b[0m\u001b[0m\n",
            "\u001b[0;31mModuleNotFoundError\u001b[0m: No module named 'memory_profiler'",
            "",
            "\u001b[0;31m---------------------------------------------------------------------------\u001b[0;32m\nNOTE: If your import is failing due to a missing package, you can\nmanually install dependencies using either !pip or !apt.\n\nTo view examples of installing some common dependencies, click the\n\"Open Examples\" button below.\n\u001b[0;31m---------------------------------------------------------------------------\u001b[0m\n"
          ],
          "errorDetails": {
            "actions": [
              {
                "action": "open_url",
                "actionText": "Open Examples",
                "url": "/notebooks/snippets/importing_libraries.ipynb"
              }
            ]
          }
        }
      ]
    },
    {
      "cell_type": "markdown",
      "source": [
        "17.Write a Python program to create and write a list of numbers to a file, one number per line.\n",
        "\n"
      ],
      "metadata": {
        "id": "Lgn7ea0xJ-7_"
      }
    },
    {
      "cell_type": "code",
      "source": [
        "numbers = [1, 2, 3, 4, 5]\n",
        "with open(\"numbers.txt\", \"w\") as f:\n",
        "    for num in numbers:\n",
        "        f.write(str(num) + \"\\n\")\n",
        "with open(\"numbers.txt\", \"r\") as f:\n",
        "   print(f.read())"
      ],
      "metadata": {
        "colab": {
          "base_uri": "https://localhost:8080/"
        },
        "id": "JNqRD2LKKALE",
        "outputId": "44779e4c-518c-4a2b-ace1-f1dbc2f6c3fb"
      },
      "execution_count": null,
      "outputs": [
        {
          "output_type": "stream",
          "name": "stdout",
          "text": [
            "1\n",
            "2\n",
            "3\n",
            "4\n",
            "5\n",
            "\n"
          ]
        }
      ]
    },
    {
      "cell_type": "markdown",
      "source": [
        "18.How would you implement a basic logging setup that logs to a file with rotation after 1MB?\n",
        "\n"
      ],
      "metadata": {
        "id": "Fcz-PYc7KJT3"
      }
    },
    {
      "cell_type": "code",
      "source": [
        "import logging\n",
        "from logging.handlers import RotatingFileHandler\n",
        "\n",
        "logging.basicConfig(level=logging.INFO)\n",
        "\n",
        "handler = RotatingFileHandler('app.log', maxBytes=1024*1024, backupCount=5)\n",
        "logging.getLogger('').addHandler(handler)\n",
        "\n",
        "logging.info(\"This is a log message.\")\n",
        "print(logging.info)"
      ],
      "metadata": {
        "colab": {
          "base_uri": "https://localhost:8080/"
        },
        "id": "AnqAjxmiKKo8",
        "outputId": "06224530-4e06-4327-aafd-c2ea197643b1"
      },
      "execution_count": null,
      "outputs": [
        {
          "output_type": "stream",
          "name": "stdout",
          "text": [
            "<function info at 0x7952c8790860>\n"
          ]
        }
      ]
    },
    {
      "cell_type": "markdown",
      "source": [
        "19.Write a program that handles both IndexError and KeyError using a try-except block.\n",
        "\n"
      ],
      "metadata": {
        "id": "MlU769TpKYJQ"
      }
    },
    {
      "cell_type": "code",
      "source": [
        "my_list = [1, 2, 3]\n",
        "my_dict = {\"a\": 1, \"b\": 2}\n",
        "try:\n",
        "    value1 = my_list[5]\n",
        "except IndexError:\n",
        "    print(\"Index out of range.\")\n",
        "try:\n",
        "    value2 = my_dict[\"c\"]\n",
        "except KeyError:\n",
        "    print(\"Key not found.\")\n",
        "\n"
      ],
      "metadata": {
        "colab": {
          "base_uri": "https://localhost:8080/"
        },
        "id": "dNw31T72KZIG",
        "outputId": "524cc2e1-7dfa-4e72-d19f-e1f7644e4669"
      },
      "execution_count": null,
      "outputs": [
        {
          "output_type": "stream",
          "name": "stdout",
          "text": [
            "Index out of range.\n",
            "Key not found.\n"
          ]
        }
      ]
    },
    {
      "cell_type": "markdown",
      "source": [
        " 20.How would you open a file and read its contents using a context manager in Python?\n",
        "\n"
      ],
      "metadata": {
        "id": "y7qNtaSALBWj"
      }
    },
    {
      "cell_type": "code",
      "source": [
        "with open(\"my_file.txt\", \"r\") as f:\n",
        "    content = f.read()\n",
        "    print(content)"
      ],
      "metadata": {
        "colab": {
          "base_uri": "https://localhost:8080/"
        },
        "id": "I4ZAFGKQI6QT",
        "outputId": "af43bb43-fec1-47b4-b6af-d6c338550e83"
      },
      "execution_count": null,
      "outputs": [
        {
          "output_type": "stream",
          "name": "stdout",
          "text": [
            "Hello, world, this is my first line!\n",
            " This is my second line.\n",
            " My name is Neetigya Bajpai.\n",
            " \n",
            " \n"
          ]
        }
      ]
    },
    {
      "cell_type": "markdown",
      "source": [
        "21.Write a Python program that reads a file and prints the number of occurrences of a specific word.\n"
      ],
      "metadata": {
        "id": "XpcPsPrzLOX4"
      }
    },
    {
      "cell_type": "code",
      "source": [
        "word = \"is\"\n",
        "count = 0\n",
        "with open(\"my_file.txt\", \"r\") as f:\n",
        "    for line in f:\n",
        "        count += line.lower().split().count(word.lower())\n",
        "print(f\"The word '{word}' appears {count} times.\")"
      ],
      "metadata": {
        "colab": {
          "base_uri": "https://localhost:8080/"
        },
        "id": "YLMuxKhzLPOZ",
        "outputId": "a37a403d-b90c-4e2e-ca0f-8611284e6ee1"
      },
      "execution_count": null,
      "outputs": [
        {
          "output_type": "stream",
          "name": "stdout",
          "text": [
            "The word 'is' appears 3 times.\n"
          ]
        }
      ]
    },
    {
      "cell_type": "markdown",
      "source": [
        "22.How can you check if a file is empty before attempting to read its contents?"
      ],
      "metadata": {
        "id": "dR1VlqUiLauG"
      }
    },
    {
      "cell_type": "code",
      "source": [
        "import os\n",
        "\n",
        "if os.stat(\"my_file.txt\").st_size == 0:\n",
        "    print(\"File is empty.\")\n",
        "else:\n",
        "    with open(\"my_file.txt\", \"r\") as f:\n",
        "        content = f.read()\n",
        "        print(content)"
      ],
      "metadata": {
        "colab": {
          "base_uri": "https://localhost:8080/"
        },
        "id": "aN0Y33UZLcpo",
        "outputId": "cc03fbc8-c39b-40f6-a3dd-154b20edb3c2"
      },
      "execution_count": null,
      "outputs": [
        {
          "output_type": "stream",
          "name": "stdout",
          "text": [
            "Hello, world, this is my first line!\n",
            " This is my second line.\n",
            " My name is Neetigya Bajpai.\n",
            " \n",
            " \n"
          ]
        }
      ]
    },
    {
      "cell_type": "markdown",
      "source": [
        "23.Write a Python program that writes to a log file when an error occurs during file handling.\n",
        "\n"
      ],
      "metadata": {
        "id": "52JqO37CLjCJ"
      }
    },
    {
      "cell_type": "code",
      "source": [
        "import logging\n",
        "\n",
        "logging.basicConfig(filename='file_errors.log', level=logging.ERROR)\n",
        "\n",
        "try:\n",
        "    with open(\"nonexistent_file.txt\", \"r\") as f:\n",
        "        content = f.read()\n",
        "except FileNotFoundError:\n",
        "    logging.error(\"File not found.\")"
      ],
      "metadata": {
        "colab": {
          "base_uri": "https://localhost:8080/"
        },
        "id": "EwjVXRitLlA3",
        "outputId": "ca9e7ce6-61eb-4241-a4f2-c73e7c58151d"
      },
      "execution_count": null,
      "outputs": [
        {
          "output_type": "stream",
          "name": "stderr",
          "text": [
            "ERROR:root:File not found.\n"
          ]
        }
      ]
    },
    {
      "cell_type": "code",
      "source": [],
      "metadata": {
        "id": "p71qRLRoLIZy"
      },
      "execution_count": null,
      "outputs": []
    }
  ]
}